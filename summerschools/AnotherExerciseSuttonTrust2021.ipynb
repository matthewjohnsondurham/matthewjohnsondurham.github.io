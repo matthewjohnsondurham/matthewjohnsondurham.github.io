{
 "cells": [
  {
   "cell_type": "markdown",
   "metadata": {
    "collapsed": false
   },
   "source": [
    "# Measuring the Importance of Nodes in Networks: Another Exercise"
   ]
  },
  {
   "cell_type": "markdown",
   "metadata": {
    "collapsed": false
   },
   "source": [
    "The first task is to adapt the algorithm from the previous exercise to apply to another network.\n",
    "\n",
    "The network below creates a network called scientists.  Each node is a scientist and nodes are linked if the two scientists have collaborated.  The data is from http://www-personal.umich.edu/~mejn/netdata/\n",
    "\n",
    "Note that it is created with the function Graph.  In the exercise we used DiGraph because the links in the network were directed, but now they are not since the relationship between nodes is symmetric (if A collaborated with B, then clearly B collaborated with A too)."
   ]
  },
  {
   "cell_type": "code",
   "execution_count": 4,
   "metadata": {
    "collapsed": false
   },
   "outputs": [
   ],
   "source": [
    "from networkx import Graph\n",
    "\n",
    "scientists = Graph({'151': ['149', '71', '150', '127', '301'], '150': ['149', '71', '96', '94', '151', '301'], '56': ['51', '55', '654'], '71': ['69', '70', '151', '150', '149', '72'], '303': ['301', '203', '302', '499'], '1263': ['375', '376', '377'], '763': ['756', '761', '762', '34'], '760': ['756', '34'], '761': ['756', '34', '763', '762', '775', '774', '776', '765', '764'], '190': ['33', '508', '509', '507'], '1229': ['132', '1228', '54', '33'], '1228': ['132', '54', '33', '1229'], '133': ['33', '34', '132', '53', '54', '134', '561', '562'], '132': ['33', '34', '53', '54', '1229', '1228', '133', '134', '561', '562'], '131': ['33', '30', '34', '203'], '499': ['303'], '134': ['33', '34', '132', '133', '53', '54', '561', '562'], '120': ['121'], '69': ['71', '70', '977', '758', '757', '72'], '127': ['126', '151'], '52': ['51', '33', '54', '53'], '126': ['127'], '70': ['69', '71', '72'], '301': ['203', '150', '151', '162', '303', '302'], '977': ['758', '757', '69', '72'], '45': ['46'], '657': ['652', '34', '654', '655', '774'], '1191': ['1190', '54', '34', '840', '33'], '1190': ['54', '34', '840', '33', '1191'], '44': ['46'], '839': ['34', '33', '54'], '758': ['756', '757', '69', '72', '977'], '656': ['652', '654', '655'], '762': ['756', '761', '34', '763'], '654': ['652', '653', '34', '55', '56', '657', '656', '655', '774'], '655': ['652', '653', '654', '34', '657', '656'], '652': ['34', '657', '656', '654', '655', '653'], '653': ['652', '654', '655'], '508': ['507', '190', '33', '509'], '509': ['507', '508', '190', '33'], '507': ['190', '33', '508', '509'], '96': ['94', '95', '150'], '1529': ['54', '33'], '1295': ['375', '376', '33', '377'], '775': ['774', '761', '764', '756', '765', '776'], '774': ['761', '657', '654', '775', '776'], '203': ['131', '303', '301', '302'], '776': ['774', '761', '775'], '757': ['756', '69', '72', '977', '758'], '756': ['34', '78', '763', '760', '761', '758', '762', '775', '757', '765', '764'], '465': ['464', '466'], '561': ['33', '53', '34', '133', '54', '132', '134', '562'], '562': ['561', '33', '53', '34', '133', '54', '132', '134'], '466': ['464', '465'], '149': ['71', '151', '150'], '77': ['78'], '121': ['120', '78', '765', '764'], '72': ['69', '70', '71', '977', '758', '757'], '489': ['488', '33', '54'], '488': ['33', '54', '489'], '485': ['33'], '765': ['756', '764', '761', '121', '775'], '95': ['96'], '94': ['150', '96'], '302': ['301', '203', '303'], '78': ['77', '46', '756', '121'], '1551': ['1550', '34', '33'], '1550': ['34', '33', '54', '1551'], '46': ['44', '45', '78'], '840': ['34', '30', '54', '33', '1191', '1190'], '33': ['30', '190', '1229', '1228', '133', '132', '131', '134', '52', '1191', '1190', '839', '508', '509', '507', '1529', '1295', '561', '562', '489', '488', '485', '1551', '1550', '840', '54', '51', '53', '34', '377', '1008', '375', '464', '376'], '54': ['51', '52', '53', '33', '34', '30', '1229', '1228', '133', '132', '134', '1191', '1190', '839', '1529', '561', '562', '489', '488', '1550', '840'], '30': ['131', '840', '33', '54', '34'], '51': ['33', '56', '52', '54', '53', '55', '1008'], '53': ['51', '52', '33', '34', '133', '132', '134', '561', '562', '54'], '34': ['30', '33', '763', '760', '761', '133', '132', '131', '134', '657', '1191', '1190', '839', '762', '654', '655', '652', '756', '561', '562', '1551', '1550', '840', '54', '53'], '764': ['756', '761', '121', '775', '765'], '378': ['375', '376', '377'], '55': ['51', '56', '654'], '377': ['375', '376', '33', '1263', '1295', '378'], '162': ['301'], '1008': ['51', '33'], '375': ['33', '1263', '1295', '378', '377', '376'], '464': ['33', '465', '466'], '376': ['375', '33', '1263', '1295', '378', '377']})"
   ]
  },
  {
   "cell_type": "markdown",
   "metadata": {
    "collapsed": false
   },
   "source": [
    "The first tasks just ask you to find out some basic features of the network scientists."
   ]
  },
  {
   "cell_type": "code",
   "execution_count": 0,
   "metadata": {
    "collapsed": false
   },
   "outputs": [
   ],
   "source": [
    "#TASK 1: How many nodes does the network scientists have?\n",
    "\n",
    "#insert code here"
   ]
  },
  {
   "cell_type": "code",
   "execution_count": 0,
   "metadata": {
    "collapsed": false
   },
   "outputs": [
   ],
   "source": [
    "#TASK 2: How many links does the network scientists have?\n",
    "\n",
    "#insert code here"
   ]
  },
  {
   "cell_type": "markdown",
   "metadata": {
    "collapsed": false
   },
   "source": [
    "As the network is undirected, the nodes don't have predecessors and successors, they just have neighbours which can be found with the function neighbors (note the spelling)."
   ]
  },
  {
   "cell_type": "code",
   "execution_count": 0,
   "metadata": {
    "collapsed": false
   },
   "outputs": [
   ],
   "source": [
    "#TASK 3: List the neighbours of node \"46\".\n",
    "\n",
    "#insert code here"
   ]
  },
  {
   "cell_type": "markdown",
   "metadata": {
    "collapsed": false
   },
   "source": [
    "Now we want to reuse the algorithm from the exercise to find the most important nodes in the network (which we might claim correspond to the most influential scientists."
   ]
  },
  {
   "cell_type": "code",
   "execution_count": 0,
   "metadata": {
    "collapsed": false
   },
   "outputs": [
   ],
   "source": [
    "#TASK 4: Rewrite the algorithm for finding the most important nodes in Network3 to find the most important nodes in scientists.\n",
    "\n",
    "#insert code here"
   ]
  },
  {
   "cell_type": "code",
   "execution_count": 0,
   "metadata": {
    "collapsed": false
   },
   "outputs": [
   ],
   "source": [
    "#TASK 5: Using the algorithm you created in task 4, what is the score of node \"34\" in scientists?\n",
    "\n",
    "#insert code here"
   ]
  },
  {
   "cell_type": "code",
   "execution_count": 0,
   "metadata": {
    "collapsed": false
   },
   "outputs": [
   ],
   "source": [
    "#TASK 6: Print, in two columns, the name of each node and its score.  Round the scores to two decimal places.\n",
    "\n",
    "#insert code here"
   ]
  },
  {
   "cell_type": "markdown",
   "metadata": {
    "collapsed": false
   },
   "source": [
    "Here is an additional task.  This is a long way beyond the scope of the original exercise but if you have a lot of experience of python or have worked quickly, try looking at writing code for an alternative to PageRank, another algorithm for evaluating the importance of nodes in networks investigate using an algorithm based on HITS which is described here:\n",
    "\n",
    "http://en.wikipedia.org/wiki/HITS_algorithm\n",
    "\n",
    "As an example network use the following:"
   ]
  },
  {
   "cell_type": "code",
   "execution_count": 0,
   "metadata": {
    "collapsed": false
   },
   "outputs": [
   ],
   "source": [
    "from networkx import DiGraph\n",
    "\n",
    "Network4 = DiGraph({\"A\": [\"B\", \"C\"], \"B\": [\"C\", \"D\", \"E\", \"F\"], \"C\":[\"F\", \"G\", \"H\"],  \n",
    "                    \"D\": [\"A\", \"H\", \"M\"], \"E\": [\"A\", \"H\"], \"F\": [\"E\", \"G\"], \"G\": [\"F\"], \n",
    "                    \"H\": [\"A\"], \"I\": [\"A\"], \"J\": [\"I\", \"L\"], \"K\": [\"J\"], \n",
    "                    \"L\": [\"K\", \"R\", \"M\"], \"M\": [\"L\", \"N\"], \"N\": [\"M\"], \n",
    "                    \"O\": [\"M\", \"J\"], \"P\": [\"M\", \"O\"], \"Q\": [\"P\"], \"R\": [\"Q\"]})"
   ]
  },
  {
   "cell_type": "code",
   "execution_count": 0,
   "metadata": {
    "collapsed": false
   },
   "outputs": [
   ],
   "source": [
    "#TASK 7: Write some code for the HITS algorithm.\n",
    "\n",
    "#insert code here"
   ]
  }
 ],
 "metadata": {
  "kernelspec": {
   "display_name": "Python 3 (system-wide)",
   "language": "python",
   "metadata": {
    "cocalc": {
     "description": "Python 3 programming language",
     "priority": 100,
     "url": "https://www.python.org/"
    }
   },
   "name": "python3"
  },
  "language_info": {
   "codemirror_mode": {
    "name": "ipython",
    "version": 3
   },
   "file_extension": ".py",
   "mimetype": "text/x-python",
   "name": "python",
   "nbconvert_exporter": "python",
   "pygments_lexer": "ipython3",
   "version": "3.6.9"
  }
 },
 "nbformat": 4,
 "nbformat_minor": 4
}
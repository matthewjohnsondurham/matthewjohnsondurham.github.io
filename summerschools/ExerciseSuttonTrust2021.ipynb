{
 "cells": [
  {
   "cell_type": "markdown",
   "metadata": {},
   "source": [
    "# Measuring the Importance of Nodes in Networks"
   ]
  },
  {
   "cell_type": "markdown",
   "metadata": {},
   "source": [
    "We are going to look at ways of using the structure of a network to determine computationally which of its nodes are most important --- that is, which are most able to influence others or control how information flows.\n",
    "\n",
    "We will use jupyter notebooks for this exercise.  The code is python.  No previous knowledge is assumed.\n",
    "\n",
    "The notebooks can be found at\n",
    "\n",
    "https://matthewjohnsondurham.github.io/summerschools/suttontrust2021.html\n",
    "\n",
    "Try to work through the exercises in this worksheet as much as you can.  Return to the website to find videos of me working through it and notebooks where the work has been done."
   ]
  },
  {
   "cell_type": "markdown",
   "metadata": {},
   "source": [
    "To execute the code in these notebooks and see the output, click on the cell and then use shift+enter.  \n",
    "\n",
    "A very simple test -- execute the code in the cell below."
   ]
  },
  {
   "cell_type": "code",
   "execution_count": 1,
   "metadata": {},
   "outputs": [
    {
     "name": "stdout",
     "output_type": "stream",
     "text": [
      "Welcome to Durham\n"
     ]
    }
   ],
   "source": [
    "print (\"Welcome to Durham\")"
   ]
  },
  {
   "cell_type": "markdown",
   "metadata": {},
   "source": [
    "Note that some of the instructions below are labelled TASK 1, TASK 2 etc.  If you get stuck, you can obtain versions of this notebook that are partially completed on the website\n",
    "\n",
    "Let's start by defining Network1 in the handout (this is the file handout.pdf on the website).  We will do this with the following code that includes, for each node, a list of the nodes that it links to. \n",
    "\n",
    "(You don't need to worry about the details of the code, but if you are familiar with python you will recognize that first line is importing a function called DiGraph from the package networkx.  DiGraph, a contraction of Directed Graph, is just another work for network.)\n",
    "\n",
    "So go to the cell below and execute the code (shift + enter)."
   ]
  },
  {
   "cell_type": "code",
   "execution_count": 2,
   "metadata": {},
   "outputs": [],
   "source": [
    "from networkx import DiGraph\n",
    "\n",
    "Network1 = DiGraph({\"A\": [\"B\", \"C\"], \n",
    "                    \"B\": [\"D\", \"E\"], \n",
    "                    \"C\": [],\n",
    "                    \"D\": [\"A\"], \n",
    "\t                \"E\": [\"A\"]})"
   ]
  },
  {
   "cell_type": "markdown",
   "metadata": {},
   "source": [
    "Notice that there was no output; all you did was create Network1.  \n",
    "\n",
    "So now execute the following code to draw Network1 and compare with the handout.  "
   ]
  },
  {
   "cell_type": "code",
   "execution_count": 3,
   "metadata": {},
   "outputs": [
    {
     "name": "stderr",
     "output_type": "stream",
     "text": [
      "C:\\Users\\dcs0mj\\AppData\\Local\\Continuum\\anaconda3\\lib\\site-packages\\networkx\\drawing\\nx_pylab.py:579: MatplotlibDeprecationWarning: \n",
      "The iterable function was deprecated in Matplotlib 3.1 and will be removed in 3.3. Use np.iterable instead.\n",
      "  if not cb.iterable(width):\n",
      "C:\\Users\\dcs0mj\\AppData\\Local\\Continuum\\anaconda3\\lib\\site-packages\\networkx\\drawing\\nx_pylab.py:676: MatplotlibDeprecationWarning: \n",
      "The iterable function was deprecated in Matplotlib 3.1 and will be removed in 3.3. Use np.iterable instead.\n",
      "  if cb.iterable(node_size):  # many node sizes\n"
     ]
    },
    {
     "data": {
      "text/plain": [
       "<Figure size 640x480 with 1 Axes>"
      ]
     },
     "metadata": {},
     "output_type": "display_data"
    }
   ],
   "source": [
    "from networkx import draw\n",
    "import matplotlib.pyplot as plt\n",
    "\n",
    "draw(Network1, with_labels=True)\n",
    "plt.show()"
   ]
  },
  {
   "cell_type": "markdown",
   "metadata": {},
   "source": [
    "So now you can see how to define and draw networks.\n",
    "\n",
    "Test this by creating and drawing Network2 and Network3.  Just copy and paste the code for Network 1 and then edit it."
   ]
  },
  {
   "cell_type": "code",
   "execution_count": 0,
   "metadata": {},
   "outputs": [],
   "source": [
    "#TASK 1\n",
    "\n",
    "#insert code to define Network2 below (when you execute this cell, this line will be ignored as it begins with the # symbol)\n",
    "\n",
    "\n",
    "\n",
    "\n"
   ]
  },
  {
   "cell_type": "code",
   "execution_count": 0,
   "metadata": {},
   "outputs": [],
   "source": [
    "#execute this cell to draw Network2 and check that you have defined it correctly\n",
    "draw(Network2, with_labels=True)\n",
    "plt.show()"
   ]
  },
  {
   "cell_type": "code",
   "execution_count": 0,
   "metadata": {},
   "outputs": [],
   "source": [
    "#insert code to define Network3 below \n",
    "\n",
    "\n",
    "\n",
    "\n"
   ]
  },
  {
   "cell_type": "code",
   "execution_count": 0,
   "metadata": {},
   "outputs": [],
   "source": [
    "#execute this cell to draw Network3 and check that you have defined it correctly\n",
    "draw(Network3, with_labels=True)\n",
    "plt.show()"
   ]
  },
  {
   "cell_type": "code",
   "execution_count": 0,
   "metadata": {},
   "outputs": [],
   "source": [
    "#in case you are unsure, here is my definition and drawing of Network3 \n",
    "\n",
    "Network3 = DiGraph({\"A\": [\"B\", \"C\"], \n",
    "                    \"B\": [\"D\", \"E\"], \n",
    "                    \"C\": [\"F\", \"G\"], \n",
    "\t                \"D\": [\"A\", \"H\"], \n",
    "\t                \"E\": [\"A\", \"H\"], \n",
    "\t                \"F\": [\"G\"], \n",
    "\t                \"G\": [\"F\"], \n",
    "\t                \"H\": [\"A\"], \n",
    "\t                \"I\": [\"A\"], \n",
    "\t                \"J\": [\"I\"],\n",
    "                    \"K\": [\"J\"],\n",
    "                    \"L\": [\"K\", \"R\"],\n",
    "                    \"M\": [\"L\", \"N\"],\n",
    "                    \"N\": [\"M\"],\n",
    "                    \"O\": [\"M\"],\n",
    "                    \"P\": [\"M\"],\n",
    "                    \"Q\": [\"M\"],\n",
    "                    \"R\": []})\n",
    "\n",
    "draw(Network3, with_labels=True)\n",
    "plt.show()"
   ]
  },
  {
   "cell_type": "markdown",
   "metadata": {},
   "source": [
    "Let's look at how, once we have defined a network, we can discover some of its properties.  To start with, the following line of code will list the nodes."
   ]
  },
  {
   "cell_type": "code",
   "execution_count": 0,
   "metadata": {},
   "outputs": [],
   "source": [
    "Network1.nodes()"
   ]
  },
  {
   "cell_type": "markdown",
   "metadata": {},
   "source": [
    "If we just want to know how many nodes there are we just the function len.  (read len as an abbreviation for length)"
   ]
  },
  {
   "cell_type": "code",
   "execution_count": 0,
   "metadata": {},
   "outputs": [],
   "source": [
    "len(Network1.nodes())"
   ]
  },
  {
   "cell_type": "markdown",
   "metadata": {},
   "source": [
    "Similarly we can find all the links -- in fact, we refer to links as edges."
   ]
  },
  {
   "cell_type": "code",
   "execution_count": 0,
   "metadata": {},
   "outputs": [],
   "source": [
    "Network1.edges()"
   ]
  },
  {
   "cell_type": "markdown",
   "metadata": {},
   "source": [
    "We can find the neighbours of a node (with code that is a little less intuitive ).  Let's look at two examples."
   ]
  },
  {
   "cell_type": "code",
   "execution_count": 0,
   "metadata": {},
   "outputs": [],
   "source": [
    "list(Network1.neighbors('A'))"
   ]
  },
  {
   "cell_type": "code",
   "execution_count": 0,
   "metadata": {},
   "outputs": [],
   "source": [
    "list(Network1.neighbors('B'))"
   ]
  },
  {
   "cell_type": "markdown",
   "metadata": {},
   "source": [
    "Note that B is a neighbour of A, but A is not a neighbour of B.  This is because the link goes *from* A *to* B (and there is no link that goes *from* B *to* A).\n",
    "\n",
    "We can also use the following two pieces of code. "
   ]
  },
  {
   "cell_type": "code",
   "execution_count": 0,
   "metadata": {},
   "outputs": [],
   "source": [
    "list(Network1.successors('A'))"
   ]
  },
  {
   "cell_type": "code",
   "execution_count": 0,
   "metadata": {},
   "outputs": [],
   "source": [
    "list(Network1.successors('B'))"
   ]
  },
  {
   "cell_type": "markdown",
   "metadata": {},
   "source": [
    "These are equivalent so, in fact, we will use successors as it gives some indication of what is meant -- the successors of A are the nodes that can be reached by following a link from A.  (But if you do any reading you find the term neighbour is often used.)\n",
    "\n",
    "What if instead we want to know which nodes link to A?  That is, for which nodes can we find a link that goes from that node to A?  For this we can use the following code."
   ]
  },
  {
   "cell_type": "code",
   "execution_count": 0,
   "metadata": {},
   "outputs": [],
   "source": [
    "list(Network1.predecessors('A'))"
   ]
  },
  {
   "cell_type": "markdown",
   "metadata": {},
   "source": [
    "A short test of your understanding.  What are the successors and predecessors of node B in each of the three example networks?  Say what you think looking at the handout, and then write code to confirm this.  \n",
    "\n",
    "Note that if you want to insert an extra cell at any time just press Alt+Enter and this will create a new cell below the current cell."
   ]
  },
  {
   "cell_type": "markdown",
   "metadata": {},
   "source": [
    "Now let's start to think about how to measure the influence of nodes.  We will use Network3 for our examples.\n",
    "\n",
    "The idea is to assign each node a 'score' --- a positive number --- such that the most important nodes receive the highest scores.  Before we think about what this score should be, let's describe the process in outline.\n",
    "\n",
    "We need to look at each node in turn, and for each node perform some calculation.  What we need is a 'for loop'.  Here is a simple example."
   ]
  },
  {
   "cell_type": "code",
   "execution_count": 1,
   "metadata": {},
   "outputs": [
    {
     "ename": "NameError",
     "evalue": "name 'Network3' is not defined",
     "output_type": "error",
     "traceback": [
      "\u001b[0;31m---------------------------------------------------------------------------\u001b[0m",
      "\u001b[0;31mNameError\u001b[0m                                 Traceback (most recent call last)",
      "\u001b[0;32m<ipython-input-1-84206fd924ce>\u001b[0m in \u001b[0;36m<module>\u001b[0;34m\u001b[0m\n\u001b[1;32m      1\u001b[0m \u001b[0mscore\u001b[0m \u001b[0;34m=\u001b[0m \u001b[0;34m{\u001b[0m\u001b[0;34m}\u001b[0m\u001b[0;34m\u001b[0m\u001b[0;34m\u001b[0m\u001b[0m\n\u001b[0;32m----> 2\u001b[0;31m \u001b[0;32mfor\u001b[0m \u001b[0mnode\u001b[0m \u001b[0;32min\u001b[0m \u001b[0mNetwork3\u001b[0m\u001b[0;34m.\u001b[0m\u001b[0mnode\u001b[0m\u001b[0;34m(\u001b[0m\u001b[0;34m)\u001b[0m\u001b[0;34m:\u001b[0m\u001b[0;34m\u001b[0m\u001b[0;34m\u001b[0m\u001b[0m\n\u001b[0m\u001b[1;32m      3\u001b[0m     \u001b[0mscore\u001b[0m\u001b[0;34m[\u001b[0m\u001b[0mnode\u001b[0m\u001b[0;34m]\u001b[0m \u001b[0;34m=\u001b[0m \u001b[0;36m1\u001b[0m\u001b[0;34m\u001b[0m\u001b[0;34m\u001b[0m\u001b[0m\n",
      "\u001b[0;31mNameError\u001b[0m: name 'Network3' is not defined"
     ]
    }
   ],
   "source": [
    "score = {}\n",
    "for node in Network3.nodes():\n",
    "    score[node] = 1"
   ]
  },
  {
   "cell_type": "markdown",
   "metadata": {},
   "source": [
    "Look back at the three lines of code above.  \n",
    "The first line creates a *data structure* called score (it is what python calls a *dictionary* and is initially empty).  \n",
    "Then the second line says consider in turn each node in Network3, and, for each node, do whatever is written on the indented lines below.  \n",
    "The last line assigns the score 1 to the node.\n",
    "\n",
    "We can see what we have done by printing the data structure score."
   ]
  },
  {
   "cell_type": "code",
   "execution_count": 0,
   "metadata": {},
   "outputs": [],
   "source": [
    "print (score)"
   ]
  },
  {
   "cell_type": "markdown",
   "metadata": {},
   "source": [
    "That isn't too easy to read.   The following code prints on separate rows the name of each node and its score."
   ]
  },
  {
   "cell_type": "code",
   "execution_count": 0,
   "metadata": {},
   "outputs": [],
   "source": [
    "for node in Network3.nodes():\n",
    "    print (\"%s: %s\" % (node, score[node]))"
   ]
  },
  {
   "cell_type": "markdown",
   "metadata": {},
   "source": [
    "Even better would be to draw the network and label the nodes with their scores.  \n",
    "The code below creates a function draw_Network3 that will draw Network3 labelled with the nodes' scores (something we will want to do repeatedly).  Execute the cell to see the output."
   ]
  },
  {
   "cell_type": "code",
   "execution_count": 0,
   "metadata": {},
   "outputs": [],
   "source": [
    "node_positions = {\"A\": [0, 4], \"B\": [-2, 2], \"C\": [2, 2], \"D\": [-5, 1.5], \n",
    "                    \"E\": [-1, 0], \"F\": [1.7, 0], \"G\": [4, 1.5], \n",
    "                    \"H\": [0, -2], \"I\": [2.5, 4], \"J\": [5, 4],\n",
    "                    \"K\": [7, 4], \"L\": [7, 2], \"M\": [7, 0], \n",
    "                    \"N\": [5, -2], \"O\": [5.8, -3], \"P\": [7.2, -3],\n",
    "                    \"Q\": [8,-2], \"R\": [9, 3]}\n",
    "\n",
    "def draw_Network3():\n",
    "    labeldict = {}\n",
    "    for node in Network3.nodes():\n",
    "        labeldict[node] = node + \": \" + str(round(score[node],1))\n",
    "    plt.figure(figsize=(15,10)) \n",
    "    draw(Network3, node_positions, labels = labeldict, with_labels=True, \n",
    "         font_size=16, node_size=3000, node_color=\"w\", edgecolors=\"b\", linewidths=2)\n",
    "    plt.show()\n",
    "    \n",
    "\n",
    "draw_Network3()"
   ]
  },
  {
   "cell_type": "markdown",
   "metadata": {},
   "source": [
    "We need to refine how we calculate the scores so that we get more meaningful values.\n",
    "\n",
    "Here is the outline code.\n",
    "\n",
    "```python\n",
    "score = {}  \n",
    "for node in Network3.vertices():  \n",
    "    score[node] = 1\n",
    "```\n",
    "\n",
    "So all we need to do is replace the final line with something more meaningful.  "
   ]
  },
  {
   "cell_type": "markdown",
   "metadata": {},
   "source": [
    "Think about what this abstract network might represent.  \n",
    "There are many systems that can be represented in this way, but so that we have something concrete to think of let us suppose it is a set of webpages and the hyperlinks between them.\n",
    "\n",
    "What does it mean for one website to link to another?  \n",
    "Well, if there is a hyperlink from A to B, perhaps it means the author of A thinks B is worth reading; that is, the hyperlink is a recommendation, an expression of approval.  \n",
    "So if lots of websites all link to the same page, that would suggest that is a *good* page, a page that should be given a high score.\n",
    "\n",
    "As a first attempt of using this idea, let's just say that the score of a node is the number of nodes that link to it; that is the number of predecessors (using the terminology introduced above).  \n",
    "So can you edit the code below so that the score assigned to each node is just the number of predecessors.  \n",
    "So A should get a score of 4 for example, and for B it should be 1."
   ]
  },
  {
   "cell_type": "code",
   "execution_count": 0,
   "metadata": {},
   "outputs": [],
   "source": [
    "#TASK 2\n",
    "\n",
    "score = {}\n",
    "for node in Network3.nodes():\n",
    "    score[node] = #YOUR CODE HERE\n",
    "    \n",
    "#draw the network to check your answer\n",
    "draw_Network3()"
   ]
  },
  {
   "cell_type": "markdown",
   "metadata": {},
   "source": [
    "Below is the code you should have come up with.  Make sure you understand why this gives the scores we want."
   ]
  },
  {
   "cell_type": "code",
   "execution_count": 0,
   "metadata": {},
   "outputs": [],
   "source": [
    "score = {}\n",
    "for node in Network3.nodes():\n",
    "    score[node] = len(list(Network3.predecessors(node)))\n",
    "    \n",
    "draw_Network3()"
   ]
  },
  {
   "cell_type": "markdown",
   "metadata": {},
   "source": [
    "Let's think how to refine 'score' further.  \n",
    "One way to the think of the *algorithm* that we just wrote to calculate score is that each node gives a score of 1 to each of its successors.\n",
    "\n",
    "Look at the node L in the picture above.  \n",
    "It 'gives' a score of 1 to K and to R.  \n",
    "So we might say that L contributes a total of 2 to the scores of other nodes.\n",
    "\n",
    "Using the same reasoning how much does M contribute?  \n",
    "What about A?  \n",
    "Can we say, in general, how much score a node 'gives' to other nodes?"
   ]
  },
  {
   "cell_type": "markdown",
   "metadata": {},
   "source": [
    "$~$\n",
    "\n",
    "$~$\n",
    "\n",
    "$~$\n",
    "\n",
    "$~$\n",
    "\n",
    "$~$\n",
    "\n",
    "$~$\n",
    "\n",
    "The answer is that the total score a node contributes is equal to the number of its successors.  \n",
    "So for M it is 2 and for A it is also 2.\n",
    "\n",
    "Suppose we want each node to contribute an equal amount --- let's say each node should give a total score of 1 to its neighbours, and when it has more than one neighbour it should divide this total equally between them.  \n",
    "\n",
    "So M will give a score of 0.5 to L.  L will give a score of 0.5 to each of K and R, and so on.\n",
    "\n",
    "So how will we calculate the score of each node?  \n",
    "Let's think about node A.  Its score depends on its predecessors, D, E, H and I.  \n",
    "\n",
    "D gives a score of 0.5 to A (because its total of 1 is divided between A and H).\n",
    "H gives a score of 1 to A (because it only has one successor).\n",
    "\n",
    "Can you complete the argument and say what the total score of A will be?"
   ]
  },
  {
   "cell_type": "markdown",
   "metadata": {},
   "source": [
    "$~$\n",
    "\n",
    "$~$\n",
    "\n",
    "$~$\n",
    "\n",
    "$~$\n",
    "\n",
    "$~$\n",
    "\n",
    "$~$\n",
    "\n",
    "The total will be 3 because E will contribute 0.5 and I will also contribute 1.\n",
    "\n",
    "Can you try to adapt the earlier code for score to calculate using this new approach?  \n",
    "In the next cell is an outline.  See if you can complete it."
   ]
  },
  {
   "cell_type": "code",
   "execution_count": 0,
   "metadata": {},
   "outputs": [],
   "source": [
    "#TASK 3\n",
    "\n",
    "score = {}\n",
    "for node in Network3.nodes(): \n",
    "    #initially set the score of a node to zero\n",
    "    score[node] = 0    \n",
    "    \n",
    "    #then look at each of predecessors\n",
    "    for pred in  list(Network3.predecessors(node)):\n",
    "        \n",
    "        #for each predecessor increase the score of the node\n",
    "        score[node] = score[node] + #YOUR CODE HERE\n",
    "\n",
    "#draw the labelled network to test your code\n",
    "draw_Network3()\n"
   ]
  },
  {
   "cell_type": "markdown",
   "metadata": {},
   "source": [
    "$~$\n",
    "\n",
    "$~$\n",
    "\n",
    "$~$\n",
    "\n",
    "$~$\n",
    "\n",
    "$~$\n",
    "\n",
    "$~$\n",
    "\n",
    "Below is one way to complete the code.  Execute the cell and make sure you understand why each node has the score it does and why the code makes the correct calculation."
   ]
  },
  {
   "cell_type": "code",
   "execution_count": 0,
   "metadata": {},
   "outputs": [],
   "source": [
    "score = {}\n",
    "for node in Network3.nodes():\n",
    "    score[node] = 0\n",
    "    for pred in  list(Network3.predecessors(node)):\n",
    "        score[node] = score[node] + 1.0 / len(list(Network3.successors(pred)))\n",
    "\n",
    "draw_Network3()"
   ]
  },
  {
   "cell_type": "markdown",
   "metadata": {},
   "source": [
    "Does this correspond with your intuition of which nodes should receive the highest scores?\n",
    "\n",
    "Consider M.  Four nodes link to M, but these nodes, N, O, P and Q, are very poor nodes in the sense that they themselves have low scores.  \n",
    "\n",
    "Consider A.  The four nodes that link to A are quite good; at least, they have better scores than the nodes that link to M.\n",
    "\n",
    "Shouldn't this mean that A has a better score than M?  They have the same number of predecessors but A has 'better quality' predecessors.\n",
    "\n",
    "How can we incorporate this idea?  Below is the code from above.  Think about how you could alter it before reading on.  If you like, try to rewrite it for yourself."
   ]
  },
  {
   "cell_type": "code",
   "execution_count": 0,
   "metadata": {},
   "outputs": [],
   "source": [
    "#TASK 4\n",
    "\n",
    "score = {}\n",
    "for node in Network3.nodes():\n",
    "    score[node] = 0\n",
    "    for pred in  list(Network3.predecessors(node)):\n",
    "        score[node] = score[node] + 1.0 / len(list(Network3.successors(pred)))"
   ]
  },
  {
   "cell_type": "markdown",
   "metadata": {},
   "source": [
    "Below is an attempt to refine the score calculation.  \n",
    "The only change is in the last line 1.0 is replaced by the score of the predecessor.   \n",
    "So now the score of the node depends on the *quality* of its predecessors, just as we wanted.\n"
   ]
  },
  {
   "cell_type": "code",
   "execution_count": 0,
   "metadata": {},
   "outputs": [],
   "source": [
    "#when you execute this code you will get an error message --- what have we done wrong?\n",
    "\n",
    "score = {}\n",
    "for node in Network3.nodes():\n",
    "    score[node] = 0\n",
    "    for pred in  list(Network3.predecessors(node)):\n",
    "        score[node] = score[node] + score[pred] / len(list(Network3.successors(pred)))\n",
    "        \n",
    "draw_Network3() "
   ]
  },
  {
   "cell_type": "markdown",
   "metadata": {},
   "source": [
    "The problem is that score of A depends on the scores of its predecessors.    \n",
    "So the score of A depends on the score of D which depends on the score of B which depends on the score of A -- a circular definition.    \n",
    "Whichever score we try to calculate first, we will get stuck.\n",
    "\n",
    "But we can make it work by just giving every node an *initial* score --- let's say 1.\n",
    "\n",
    "```python\n",
    "intl_sc = {} \n",
    "for node in Network3.nodes(): \n",
    "    intl_sc[node] = 1\n",
    "```    \n",
    "    \n",
    "Then we use these initial scores to calculate some *interim* scores.\n",
    "\n",
    "```python\n",
    "intrm_sc={}\n",
    "for node in Network3.nodes():\n",
    "    intrm_sc[node] = 0\n",
    "    for pred in  list(Network3.predecessors(node)):\n",
    "        intrm_sc[node] += intl_sc[pred] / len(list(Network3.successors(pred)))\n",
    "```\n",
    "\n",
    "Then we use these interim scores to calculate the final scores.\n",
    "\n",
    "\n",
    "```python\n",
    "score = {}\n",
    "for node in Network3.nodes():\n",
    "    score[node] = 0\n",
    "    for pred in  list(Network3.predecessors(node)):\n",
    "        score[node] += intrm_sc[pred] / len(list(Network3.successors(pred)))\n",
    "```\n",
    "        \n",
    "This code is all together in the next cell.\n",
    "What do you expect the scores to be?        "
   ]
  },
  {
   "cell_type": "code",
   "execution_count": 0,
   "metadata": {},
   "outputs": [],
   "source": [
    "intl_sc = {} \n",
    "for node in Network3.nodes(): \n",
    "    intl_sc[node] = 1\n",
    "\n",
    "intrm_sc={}\n",
    "for node in Network3.nodes():\n",
    "    intrm_sc[node] = 0\n",
    "    for pred in  list(Network3.predecessors(node)):\n",
    "        intrm_sc[node] += intl_sc[pred] / len(list(Network3.successors(pred)))\n",
    "score = {}\n",
    "for node in Network3.nodes():\n",
    "    score[node] = 0\n",
    "    for pred in  list(Network3.predecessors(node)):\n",
    "        score[node] += intrm_sc[pred] / len(list(Network3.successors(pred)))\n",
    "\n",
    "draw_Network3()"
   ]
  },
  {
   "cell_type": "markdown",
   "metadata": {},
   "source": [
    "(Note that the in the drawing of the network numbers are rounded to one decimal place.  This is enough for our purposes (though if you wanted, you could look back at code for the draw_Network3() function and see if you can edit it)).\n",
    "\n",
    "Before we think about this newest approach has worked, let's see if we can improve the code.    \n",
    "The calculation of the interim score and the final score are identical in format.   \n",
    "So can we create the code to do the calculation and then use it twice?\n",
    "\n",
    "What we need is a function --- let's call it update.    \n",
    "The input to this is a set of 'old scores'  (which might be intl_score or intrm_score) and the output is a set of updated new scores (we use the return command to stipulate the output).\n",
    "\n",
    "```python\n",
    "def update(oldscore):\n",
    "    newscore = {}\n",
    "    for node in Network3.nodes():\n",
    "        newscore[node] = 0\n",
    "        for pred in  list(Network3.predecessors(node)):\n",
    "            newscore[node] += oldscore[pred] / len(list(Network3.successors(pred)))\n",
    "    return newscore\n",
    "```\n",
    "\n",
    "Below we just repeat the last calculation but now use this update function."
   ]
  },
  {
   "cell_type": "code",
   "execution_count": 0,
   "metadata": {},
   "outputs": [],
   "source": [
    "def update(oldscore):\n",
    "    newscore = {}\n",
    "    for node in Network3.nodes():\n",
    "        newscore[node] = 0\n",
    "        for pred in  list(Network3.predecessors(node)):\n",
    "            newscore[node] += oldscore[pred] / len(list(Network3.successors(pred)))\n",
    "    return newscore\n",
    "\n",
    "intl_sc = {} \n",
    "for node in Network3.nodes(): \n",
    "    intl_sc[node] = 1\n",
    "intrm_sc = update(intl_sc)\n",
    "score = update(intrm_sc)\n",
    "\n",
    "draw_Network3() "
   ]
  },
  {
   "cell_type": "markdown",
   "metadata": {},
   "source": [
    "And we can make things a little neater still by noticing that once we have intrm_sc we don't need the intl_sc again, and once we have score we don't need intrm_sc.    \n",
    "As we don't need to remember any of the old scores once they are updated, they can all be given the same name.   \n",
    "The next cell repeats the calculation once more."
   ]
  },
  {
   "cell_type": "code",
   "execution_count": 0,
   "metadata": {},
   "outputs": [],
   "source": [
    "score = {} \n",
    "for node in Network3.nodes(): \n",
    "    score[node] = 1\n",
    "score = update(score)\n",
    "score = update(score)\n",
    "\n",
    "draw_Network3()"
   ]
  },
  {
   "cell_type": "markdown",
   "metadata": {},
   "source": [
    "Now our code is easier to read, let's look at the output.    \n",
    "We now see A has the highest score which does seem to make sense.\n",
    "\n",
    "But there are some odd features -- the only link to L is from M so wouldn't we expect L not to have a score greater than M if our assumption is that the score of nodes depends on the scores of the nodes that link to them.\n",
    "\n",
    "The problem is that the score of L depends on the interim value of M not on its final score.\n",
    "\n",
    "So isn't the obvious solution to update again -- to find a new score for L dependent on the updated score of M\n",
    "\n",
    "So lets rewrite what had above but with one further recalculation of scores.    \n",
    "We could write:\n",
    "\n",
    "```python\n",
    "score = {} \n",
    "for node in Network3.nodes(): \n",
    "    score[node] = 1\n",
    "score = update(score)\n",
    "score = update(score)\n",
    "score = update(score)\n",
    "```\n",
    "\n",
    "but writing the same thing three times is not efficient.    \n",
    "Instead, in the next cell, we use a for loop.     \n",
    "The code 'for i in range 3' just says count to 3 and do whatever is on the next line each time (strictly speaking it says count 0, 1, 2).\n",
    "\n"
   ]
  },
  {
   "cell_type": "code",
   "execution_count": 0,
   "metadata": {},
   "outputs": [],
   "source": [
    "score = {} \n",
    "for node in Network3.nodes(): \n",
    "    score[node] = 1\n",
    "for i in range(3):\n",
    "    score = update(score)\n",
    "\n",
    "draw_Network3()"
   ]
  },
  {
   "cell_type": "markdown",
   "metadata": {},
   "source": [
    "We have a similar problem.   \n",
    "R has a higher score than L because the score of R depends on L after two updates, but the third and final update gives L a lower score.\n",
    "\n",
    "The answer is the same --- update the score once more.  \n",
    "But we will keep having problems --- go back to the previous box and try different numbers of updates (by replacing the 3 with larger numbers).     \n",
    "So we update more and more until we have something such as:"
   ]
  },
  {
   "cell_type": "code",
   "execution_count": 0,
   "metadata": {},
   "outputs": [],
   "source": [
    "score = {} \n",
    "for node in Network3.nodes(): \n",
    "    score[node] = 1\n",
    "for i in range(20):\n",
    "    score = update(score)\n",
    "\n",
    "draw_Network3()"
   ]
  },
  {
   "cell_type": "markdown",
   "metadata": {},
   "source": [
    "This hasn't worked well at all; the problem is that the score is 'flowing' around the network along the links and each time we update some of it flows from C to F and G and no score ever flows away from F and G so they ultimately have all the score.\n",
    "\n",
    "To get around this we can make the updated scores depend only *partially* on incoming links\n",
    "\n",
    "Compare the new update function below to the older definition: what has changed?\n",
    "\n",
    "```python\n",
    "def new_update(oldscore):\n",
    "    newscore = {}\n",
    "    for node in Network3.nodes():\n",
    "        newscore[node] = 0.4\n",
    "        for pred in  list(Network3.predecessors(node)):\n",
    "            newscore[node] += 0.6 * oldscore[pred] / len(list(Network3.successors(pred)))\n",
    "    return newscore\n",
    "```\n",
    "\n",
    "Below we repeat the previous calculation using this new function."
   ]
  },
  {
   "cell_type": "code",
   "execution_count": 0,
   "metadata": {},
   "outputs": [],
   "source": [
    "#TASK 5\n",
    "\n",
    "def new_update(oldscore):\n",
    "    newscore = {}\n",
    "    for node in Network3.nodes():\n",
    "        newscore[node] = 0.4\n",
    "        for pred in  list(Network3.predecessors(node)):\n",
    "            newscore[node] += 0.6 * oldscore[pred] / len(list(Network3.successors(pred)))\n",
    "    return newscore\n",
    "\n",
    "score = {} \n",
    "for node in Network3.nodes(): \n",
    "    score[node] = 1\n",
    "for i in range(20):\n",
    "    score = new_update(score)\n",
    "\n",
    "draw_Network3()"
   ]
  },
  {
   "cell_type": "markdown",
   "metadata": {},
   "source": [
    "This gives scores that coincide reasonably with our intuition (don't they?).  \n",
    "\n",
    "If you want to experiment more, go back and change the initial definition of Network3 and see if the function still works well (remember to evaluate the cell once you have edited it). \n",
    "\n",
    "Try to refine the update procedure by editing the numbers 0.4 and 0.6 (these two numbers should always add up to 1).  Or test whether 20 updates are really needed."
   ]
  },
  {
   "cell_type": "markdown",
   "metadata": {},
   "source": [
    "The algorithm described is Google's PageRank that uses the structure of the web to determine the quality of webpages (PageRank is just one of hundreds of procedures used to find search results).\n",
    "\n",
    "This article gives some more background.\n",
    "\n",
    "http://www.wired.com/magazine/2010/02/ff_google_algorithm/"
   ]
  },
  {
   "cell_type": "markdown",
   "metadata": {},
   "source": [
    "That is the end of this exercise.\n",
    "\n",
    "Also email me during the week if you have any questions about the exercise.  Good luck!"
   ]
  },
  {
   "cell_type": "code",
   "execution_count": 0,
   "metadata": {},
   "outputs": [],
   "source": []
  }
 ],
 "metadata": {
  "kernelspec": {
   "display_name": "Python 3",
   "language": "python",
   "name": "python3"
  },
  "language_info": {
   "codemirror_mode": {
    "name": "ipython",
    "version": 3
   },
   "file_extension": ".py",
   "mimetype": "text/x-python",
   "name": "python",
   "nbconvert_exporter": "python",
   "pygments_lexer": "ipython3",
   "version": "3.7.4"
  }
 },
 "nbformat": 4,
 "nbformat_minor": 4
}

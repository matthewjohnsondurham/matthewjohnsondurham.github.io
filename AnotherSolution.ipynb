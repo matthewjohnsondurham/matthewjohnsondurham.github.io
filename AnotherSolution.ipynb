{
 "cells": [
  {
   "cell_type": "markdown",
   "metadata": {
    "collapsed": false
   },
   "source": [
    "The first task is to adapt the algorithm above to apply to another network.\n",
    "\n",
    "The network below creates a network called scientists.  Each node is a scientist and nodes are linked if the two scientists have collaborated.  The data is from http://www-personal.umich.edu/~mejn/netdata/\n",
    "\n",
    "Note that it is created with the function Graph.  In the exercise we used DiGraph because the links in the network were directed, but now they are not since the relationship between nodes is symmetric (if A collaborated with B, then clearly B collaborated with A too)."
   ]
  },
  {
   "cell_type": "code",
   "execution_count": 1,
   "metadata": {
    "collapsed": false
   },
   "outputs": [
   ],
   "source": [
    "from networkx import Graph\n",
    "\n",
    "scientists = Graph({'151': ['149', '71', '150', '127', '301'], '150': ['149', '71', '96', '94', '151', '301'], '56': ['51', '55', '654'], '71': ['69', '70', '151', '150', '149', '72'], '303': ['301', '203', '302', '499'], '1263': ['375', '376', '377'], '763': ['756', '761', '762', '34'], '760': ['756', '34'], '761': ['756', '34', '763', '762', '775', '774', '776', '765', '764'], '190': ['33', '508', '509', '507'], '1229': ['132', '1228', '54', '33'], '1228': ['132', '54', '33', '1229'], '133': ['33', '34', '132', '53', '54', '134', '561', '562'], '132': ['33', '34', '53', '54', '1229', '1228', '133', '134', '561', '562'], '131': ['33', '30', '34', '203'], '499': ['303'], '134': ['33', '34', '132', '133', '53', '54', '561', '562'], '120': ['121'], '69': ['71', '70', '977', '758', '757', '72'], '127': ['126', '151'], '52': ['51', '33', '54', '53'], '126': ['127'], '70': ['69', '71', '72'], '301': ['203', '150', '151', '162', '303', '302'], '977': ['758', '757', '69', '72'], '45': ['46'], '657': ['652', '34', '654', '655', '774'], '1191': ['1190', '54', '34', '840', '33'], '1190': ['54', '34', '840', '33', '1191'], '44': ['46'], '839': ['34', '33', '54'], '758': ['756', '757', '69', '72', '977'], '656': ['652', '654', '655'], '762': ['756', '761', '34', '763'], '654': ['652', '653', '34', '55', '56', '657', '656', '655', '774'], '655': ['652', '653', '654', '34', '657', '656'], '652': ['34', '657', '656', '654', '655', '653'], '653': ['652', '654', '655'], '508': ['507', '190', '33', '509'], '509': ['507', '508', '190', '33'], '507': ['190', '33', '508', '509'], '96': ['94', '95', '150'], '1529': ['54', '33'], '1295': ['375', '376', '33', '377'], '775': ['774', '761', '764', '756', '765', '776'], '774': ['761', '657', '654', '775', '776'], '203': ['131', '303', '301', '302'], '776': ['774', '761', '775'], '757': ['756', '69', '72', '977', '758'], '756': ['34', '78', '763', '760', '761', '758', '762', '775', '757', '765', '764'], '465': ['464', '466'], '561': ['33', '53', '34', '133', '54', '132', '134', '562'], '562': ['561', '33', '53', '34', '133', '54', '132', '134'], '466': ['464', '465'], '149': ['71', '151', '150'], '77': ['78'], '121': ['120', '78', '765', '764'], '72': ['69', '70', '71', '977', '758', '757'], '489': ['488', '33', '54'], '488': ['33', '54', '489'], '485': ['33'], '765': ['756', '764', '761', '121', '775'], '95': ['96'], '94': ['150', '96'], '302': ['301', '203', '303'], '78': ['77', '46', '756', '121'], '1551': ['1550', '34', '33'], '1550': ['34', '33', '54', '1551'], '46': ['44', '45', '78'], '840': ['34', '30', '54', '33', '1191', '1190'], '33': ['30', '190', '1229', '1228', '133', '132', '131', '134', '52', '1191', '1190', '839', '508', '509', '507', '1529', '1295', '561', '562', '489', '488', '485', '1551', '1550', '840', '54', '51', '53', '34', '377', '1008', '375', '464', '376'], '54': ['51', '52', '53', '33', '34', '30', '1229', '1228', '133', '132', '134', '1191', '1190', '839', '1529', '561', '562', '489', '488', '1550', '840'], '30': ['131', '840', '33', '54', '34'], '51': ['33', '56', '52', '54', '53', '55', '1008'], '53': ['51', '52', '33', '34', '133', '132', '134', '561', '562', '54'], '34': ['30', '33', '763', '760', '761', '133', '132', '131', '134', '657', '1191', '1190', '839', '762', '654', '655', '652', '756', '561', '562', '1551', '1550', '840', '54', '53'], '764': ['756', '761', '121', '775', '765'], '378': ['375', '376', '377'], '55': ['51', '56', '654'], '377': ['375', '376', '33', '1263', '1295', '378'], '162': ['301'], '1008': ['51', '33'], '375': ['33', '1263', '1295', '378', '377', '376'], '464': ['33', '465', '466'], '376': ['375', '33', '1263', '1295', '378', '377']})"
   ]
  },
  {
   "cell_type": "markdown",
   "metadata": {
    "collapsed": false
   },
   "source": [
    "The first tasks just ask you to find out some basic features of the network scientists."
   ]
  },
  {
   "cell_type": "code",
   "execution_count": 2,
   "metadata": {
    "collapsed": false
   },
   "outputs": [
    {
     "data": {
      "text/plain": [
       "85"
      ]
     },
     "execution_count": 2,
     "metadata": {
     },
     "output_type": "execute_result"
    }
   ],
   "source": [
    "#TASK 1: How many nodes does the network scientists have?\n",
    "\n",
    "#insert code here\n",
    "\n",
    "len(scientists.nodes())"
   ]
  },
  {
   "cell_type": "code",
   "execution_count": 3,
   "metadata": {
    "collapsed": false
   },
   "outputs": [
    {
     "data": {
      "text/plain": [
       "216"
      ]
     },
     "execution_count": 3,
     "metadata": {
     },
     "output_type": "execute_result"
    }
   ],
   "source": [
    "#TASK 2: How many links does the network scientists have?\n",
    "\n",
    "#insert code here\n",
    "\n",
    "len(scientists.edges())"
   ]
  },
  {
   "cell_type": "markdown",
   "metadata": {
    "collapsed": false
   },
   "source": [
    "As the network is undirected, the nodes don't have predecessors and successors, they just have neighbours which can be found with the function neighbors (note the spelling)."
   ]
  },
  {
   "cell_type": "code",
   "execution_count": 4,
   "metadata": {
    "collapsed": false
   },
   "outputs": [
    {
     "data": {
      "text/plain": [
       "['45', '44', '78']"
      ]
     },
     "execution_count": 4,
     "metadata": {
     },
     "output_type": "execute_result"
    }
   ],
   "source": [
    "#TASK 3: List the neighbours of node \"46\".\n",
    "\n",
    "#insert code here\n",
    "\n",
    "list(scientists.neighbors(\"46\"))"
   ]
  },
  {
   "cell_type": "markdown",
   "metadata": {
    "collapsed": false
   },
   "source": [
    "Now we want to reuse the algorithm from the exercise to find the most important nodes in the network (which we might claim correspond to the most influential scientists."
   ]
  },
  {
   "cell_type": "code",
   "execution_count": 5,
   "metadata": {
    "collapsed": false
   },
   "outputs": [
   ],
   "source": [
    "#TASK 4: Rewrite the algorithm for finding the most important nodes in Network3 to find the most important nodes in scientists.\n",
    "\n",
    "#insert code here\n",
    "\n",
    "def new_update(oldscore):\n",
    "    newscore = {}\n",
    "    for node in scientists.nodes():\n",
    "        newscore[node] = 0.4\n",
    "        for nbour in  list(scientists.neighbors(node)):\n",
    "            newscore[node] += 0.6 * oldscore[nbour] / len(list(scientists.neighbors(nbour)))\n",
    "    return newscore\n",
    "\n",
    "score = {} \n",
    "for node in scientists.nodes(): \n",
    "    score[node] = 1\n",
    "for i in range(20):\n",
    "    score = new_update(score)"
   ]
  },
  {
   "cell_type": "code",
   "execution_count": 6,
   "metadata": {
    "collapsed": false
   },
   "outputs": [
    {
     "data": {
      "text/plain": [
       "2.864349272636677"
      ]
     },
     "execution_count": 6,
     "metadata": {
     },
     "output_type": "execute_result"
    }
   ],
   "source": [
    "#TASK 5: Using the algorithm you created in task 4, what is the score of node \"34\" in scientists?\n",
    "\n",
    "#insert code here\n",
    "\n",
    "score[\"34\"]"
   ]
  },
  {
   "cell_type": "code",
   "execution_count": 7,
   "metadata": {
    "collapsed": false
   },
   "outputs": [
    {
     "name": "stdout",
     "output_type": "stream",
     "text": [
      "151: 1.28\n",
      "150: 1.46\n",
      "56: 0.75\n",
      "71: 1.25\n",
      "303: 1.24\n",
      "1263: 0.73\n",
      "763: 0.77\n",
      "760: 0.56\n",
      "761: 1.4\n",
      "190: 0.87\n",
      "1229: 0.73\n",
      "1228: 0.73\n",
      "133: 0.98\n",
      "132: 1.2\n",
      "131: 0.8\n",
      "499: 0.59\n",
      "134: 0.98\n",
      "120: 0.58\n",
      "69: 1.15\n",
      "127: 0.97\n",
      "52: 0.72\n",
      "126: 0.69\n",
      "70: 0.76\n",
      "301: 1.56\n",
      "977: 0.86\n",
      "45: 0.68\n",
      "657: 0.9\n",
      "1191: 0.8\n",
      "1190: 0.8\n",
      "44: 0.68\n",
      "839: 0.62\n",
      "758: 0.97\n",
      "656: 0.71\n",
      "762: 0.77\n",
      "654: 1.49\n",
      "655: 1.07\n",
      "652: 1.07\n",
      "653: 0.71\n",
      "508: 0.87\n",
      "509: 0.87\n",
      "507: 0.87\n",
      "96: 1.16\n",
      "1529: 0.55\n",
      "1295: 0.81\n",
      "775: 1.08\n",
      "774: 0.95\n",
      "203: 1.04\n",
      "776: 0.72\n",
      "757: 0.97\n",
      "756: 1.74\n",
      "465: 0.85\n",
      "561: 0.98\n",
      "562: 0.98\n",
      "466: 0.85\n",
      "149: 0.83\n",
      "77: 0.6\n",
      "121: 1.18\n",
      "72: 1.15\n",
      "489: 0.68\n",
      "488: 0.68\n",
      "485: 0.48\n",
      "765: 0.99\n",
      "95: 0.63\n",
      "94: 0.78\n",
      "302: 0.9\n",
      "78: 1.31\n",
      "1551: 0.66\n",
      "1550: 0.75\n",
      "46: 1.42\n",
      "840: 0.91\n",
      "33: 4.35\n",
      "54: 2.47\n",
      "30: 0.83\n",
      "51: 1.2\n",
      "53: 1.19\n",
      "34: 2.86\n",
      "764: 0.99\n",
      "378: 0.73\n",
      "55: 0.75\n",
      "377: 1.12\n",
      "162: 0.56\n",
      "1008: 0.58\n",
      "375: 1.12\n",
      "464: 0.99\n",
      "376: 1.12\n",
      "485: 0.48\n",
      "1529: 0.55\n",
      "162: 0.56\n",
      "760: 0.56\n",
      "120: 0.58\n",
      "1008: 0.58\n",
      "499: 0.59\n",
      "77: 0.6\n",
      "839: 0.62\n",
      "95: 0.63\n",
      "1551: 0.66\n",
      "45: 0.68\n",
      "44: 0.68\n",
      "489: 0.68\n",
      "488: 0.68\n",
      "126: 0.69\n",
      "656: 0.71\n",
      "653: 0.71\n",
      "776: 0.72\n",
      "52: 0.72\n",
      "1229: 0.73\n",
      "1228: 0.73\n",
      "1263: 0.73\n",
      "378: 0.73\n",
      "1550: 0.75\n",
      "56: 0.75\n",
      "55: 0.75\n",
      "70: 0.76\n",
      "763: 0.77\n",
      "762: 0.77\n",
      "94: 0.78\n",
      "131: 0.8\n",
      "1191: 0.8\n",
      "1190: 0.8\n",
      "1295: 0.81\n",
      "149: 0.83\n",
      "30: 0.83\n",
      "466: 0.85\n",
      "465: 0.85\n",
      "977: 0.86\n",
      "190: 0.87\n",
      "508: 0.87\n",
      "509: 0.87\n",
      "507: 0.87\n",
      "657: 0.9\n",
      "302: 0.9\n",
      "840: 0.91\n",
      "774: 0.95\n",
      "127: 0.97\n",
      "758: 0.97\n",
      "757: 0.97\n",
      "133: 0.98\n",
      "134: 0.98\n",
      "561: 0.98\n",
      "562: 0.98\n",
      "464: 0.99\n",
      "765: 0.99\n",
      "764: 0.99\n",
      "203: 1.04\n",
      "655: 1.07\n",
      "652: 1.07\n",
      "775: 1.08\n",
      "377: 1.12\n",
      "375: 1.12\n",
      "376: 1.12\n",
      "69: 1.15\n",
      "72: 1.15\n",
      "96: 1.16\n",
      "121: 1.18\n",
      "53: 1.19\n",
      "132: 1.2\n",
      "51: 1.2\n",
      "303: 1.24\n",
      "71: 1.25\n",
      "151: 1.28\n",
      "78: 1.31\n",
      "761: 1.4\n",
      "46: 1.42\n",
      "150: 1.46\n",
      "654: 1.49\n",
      "301: 1.56\n",
      "756: 1.74\n",
      "54: 2.47\n",
      "34: 2.86\n",
      "33: 4.35\n"
     ]
    }
   ],
   "source": [
    "#TASK 6: Print, in two columns, the name of each node and its score.  Round the scores to two decimal places.\n",
    "\n",
    "#insert code here\n",
    "\n",
    "#here is a straightforward answer\n",
    "for node in scientists.nodes():\n",
    "    print (\"%s: %s\" % (node, round(score[node],2)))\n",
    "\n",
    "#here is a version that prints the nodes in order of score, smallest first\n",
    "scorelist = []\n",
    "for node in scientists.nodes():\n",
    "    scorelist += [[node, score[node]]]\n",
    "for pair in sorted(scorelist, key=lambda sc: sc[1]):\n",
    "    print (\"%s: %s\" % (pair[0], round(pair[1],2)))"
   ]
  },
  {
   "cell_type": "markdown",
   "metadata": {
    "collapsed": false
   },
   "source": [
    "Try looking at writing code for an alternative to PageRank, another algorithm for evaluating the importance of nodes in networks investigate using an algorithm based on HITS which is described here:\n",
    "\n",
    "http://en.wikipedia.org/wiki/HITS_algorithm\n",
    "\n",
    "As an example network use the following:"
   ]
  },
  {
   "cell_type": "code",
   "execution_count": 12,
   "metadata": {
    "collapsed": false
   },
   "outputs": [
   ],
   "source": [
    "from networkx import DiGraph\n",
    "\n",
    "Network4 = DiGraph({\"A\": [\"B\", \"C\"], \"B\": [\"C\", \"D\", \"E\", \"F\"], \"C\":[\"F\", \"G\", \"H\"],  \n",
    "                    \"D\": [\"A\", \"H\", \"M\"], \"E\": [\"A\", \"H\"], \"F\": [\"E\", \"G\"], \"G\": [\"F\"], \n",
    "                    \"H\": [\"A\"], \"I\": [\"A\"], \"J\": [\"I\", \"L\"], \"K\": [\"J\"], \n",
    "                    \"L\": [\"K\", \"R\", \"M\"], \"M\": [\"L\", \"N\"], \"N\": [\"M\"], \n",
    "                    \"O\": [\"M\", \"J\"], \"P\": [\"M\", \"O\"], \"Q\": [\"P\"], \"R\": [\"Q\"]})"
   ]
  },
  {
   "cell_type": "code",
   "execution_count": 13,
   "metadata": {
    "collapsed": false
   },
   "outputs": [
    {
     "name": "stdout",
     "output_type": "stream",
     "text": [
      "A: 0.05 0.76\n",
      "B: 0.25 0.02\n",
      "C: 0.5 0.1\n",
      "D: 1.0 0.09\n",
      "E: 0.6 0.14\n",
      "F: 0.14 0.3\n",
      "G: 0.12 0.22\n",
      "H: 0.31 0.72\n",
      "I: 0.31 0.0\n",
      "J: 0.0 0.19\n",
      "K: 0.08 0.19\n",
      "L: 0.56 0.0\n",
      "M: 0.0 1.0\n",
      "N: 0.4 0.0\n",
      "O: 0.48 0.16\n",
      "P: 0.47 0.0\n",
      "Q: 0.0 0.0\n",
      "R: 0.0 0.19\n"
     ]
    }
   ],
   "source": [
    "#TASK 7: Write some code for the HITS algorithm.\n",
    "\n",
    "#insert code here\n",
    "\n",
    "#first an update function\n",
    "def new_update(oldhub, oldauth):\n",
    "    \"\"\"function that takes old hub and authority scores and performs one iteration\n",
    "    to calculate new scores\"\"\"\n",
    "    #initialise the new data structures\n",
    "    newhub = {}\n",
    "    newauth = {}\n",
    "    #initialise the maximum values of the hub and authority scores\n",
    "    maxhub = 0\n",
    "    maxauth = 0    \n",
    "    #consider each node\n",
    "    for node in Network4.nodes():\n",
    "        #initialise the node's new hub and authority scores\n",
    "        newhub[node] = 0\n",
    "        newauth[node] = 0\n",
    "        #look at each successor\n",
    "        for suc in  list(Network4.successors(node)):\n",
    "            #add the authority score of the successor to the hub score of the node\n",
    "            newhub[node] += oldauth[suc] \n",
    "        if newhub[node] > maxhub:\n",
    "            #if the new hub score is greater than the max, update the max\n",
    "            maxhub = newhub[node]\n",
    "        #look at each predecessor\n",
    "        for pred in  list(Network4.predecessors(node)):\n",
    "            #add the hub score of the predecessor to the authority score of the node\n",
    "            newauth[node] += oldhub[pred] \n",
    "        if newauth[node] > maxauth:\n",
    "            #if the new authority score is greater than the max, update the max\n",
    "            maxauth = newauth[node]\n",
    "    #normalise the scores by dividing by the max for each\n",
    "    for node in Network4.nodes():\n",
    "        newhub[node] = newhub[node] / maxhub\n",
    "        newauth[node] = newauth[node] / maxauth\n",
    "    return newhub, newauth\n",
    "\n",
    "#the algorithm for HITS\n",
    "hub_score = {}\n",
    "auth_score = {} \n",
    "#initialise all hub and authority scores to 1\n",
    "for node in Network4.nodes(): \n",
    "    hub_score[node] = 1\n",
    "    auth_score[node] = 1\n",
    "#repeatedly update scores\n",
    "for i in range(200):\n",
    "    hub_score, auth_score = new_update(hub_score, auth_score)\n",
    "    \n",
    "#print the results    \n",
    "for node in Network4.nodes():\n",
    "    print (\"%s: %s %s\" % (node, round(hub_score[node],2), round(auth_score[node],2)))"
   ]
  },
  {
   "cell_type": "code",
   "execution_count": 0,
   "metadata": {
    "collapsed": false
   },
   "outputs": [
   ],
   "source": [
   ]
  }
 ],
 "metadata": {
  "kernelspec": {
   "display_name": "Python 3 (system-wide)",
   "language": "python",
   "metadata": {
    "cocalc": {
     "description": "Python 3 programming language",
     "priority": 100,
     "url": "https://www.python.org/"
    }
   },
   "name": "python3"
  },
  "language_info": {
   "codemirror_mode": {
    "name": "ipython",
    "version": 3
   },
   "file_extension": ".py",
   "mimetype": "text/x-python",
   "name": "python",
   "nbconvert_exporter": "python",
   "pygments_lexer": "ipython3",
   "version": "3.6.9"
  }
 },
 "nbformat": 4,
 "nbformat_minor": 4
}